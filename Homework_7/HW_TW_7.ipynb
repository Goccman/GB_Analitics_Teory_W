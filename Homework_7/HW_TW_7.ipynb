{
  "nbformat": 4,
  "nbformat_minor": 0,
  "metadata": {
    "colab": {
      "provenance": []
    },
    "kernelspec": {
      "name": "python3",
      "display_name": "Python 3"
    },
    "language_info": {
      "name": "python"
    }
  },
  "cells": [
    {
      "cell_type": "code",
      "execution_count": 2,
      "metadata": {
        "id": "Vex-1AtdNWPE"
      },
      "outputs": [],
      "source": [
        "import numpy as np\n",
        "import scipy.stats as stats\n",
        "import matplotlib.pyplot as plt"
      ]
    },
    {
      "cell_type": "markdown",
      "source": [
        "Выбрать тест и проверить, есть  ли различия между выборками:\n",
        "\n",
        "###Задача 1  \n",
        "Даны две  независимые выборки. Не соблюдается условие нормальности\n",
        "\n",
        "x1  380,420, 290         \n",
        "y1 140,360,200,900\n",
        "\n",
        "Сделайте вывод по результатам, полученным с помощью функции"
      ],
      "metadata": {
        "id": "NkgJsO1HN2PT"
      }
    },
    {
      "cell_type": "code",
      "source": [
        "x1 = np.array ([380, 420, 290])\n",
        "y1 = np.array ([140, 360, 200, 900])\n",
        "\n",
        "\n",
        "# Выполняем критерий Манна – Уитни U\n",
        "statistic, p_value = stats.mannwhitneyu(x1, y1, alternative='two-sided')\n",
        "\n",
        "# Выводим результаты\n",
        "alpha = 0.05\n",
        "print(f\"Статистика критерия Манна-Уитни: {statistic}\")\n",
        "print(f\"p-value: {p_value}\")\n",
        "\n",
        "if p_value < alpha:\n",
        "    print(\"Отвергаем нулевую гипотезу: существуют статистически значимые различия между выборками.\")\n",
        "else:\n",
        "    print(\"Не отвергаем нулевую гипотезу: статистически значимых различий между выборками нет.\")\n",
        "\n",
        "\n"
      ],
      "metadata": {
        "colab": {
          "base_uri": "https://localhost:8080/"
        },
        "id": "4NYwQwzCOaPk",
        "outputId": "cdd27ea7-843c-4e39-ef69-958e4029bb5d"
      },
      "execution_count": 10,
      "outputs": [
        {
          "output_type": "stream",
          "name": "stdout",
          "text": [
            "Статистика критерия Манна-Уитни: 8.0\n",
            "p-value: 0.6285714285714286\n",
            "Не отвергаем нулевую гипотезу: статистически значимых различий между выборками нет.\n"
          ]
        }
      ]
    },
    {
      "cell_type": "markdown",
      "source": [
        "###Задача 2\n",
        "Исследовалось влияние препарата на уровень давления пациентов. Сначала измерялось давление до приема препарата, потом через 10 минут и через 30 минут. Есть ли статистически значимые различия?\n",
        "\n",
        "1е измерение до приема препарата: 150, 160, 165, 145, 155               \n",
        "2е измерение через 10 минут: 140, 155, 150,  130, 135                        \n",
        "3е измерение через 30 минут: 130, 130, 120, 130, 125"
      ],
      "metadata": {
        "id": "6ZkMqBajVGBx"
      }
    },
    {
      "cell_type": "code",
      "source": [
        "before_medication = np.array ([150, 160, 165, 145, 155])\n",
        "after_10_minutes = np.array ([140, 155, 150, 130, 135])\n",
        "after_30_minutes = np.array ([130, 130, 120, 130, 125])\n",
        "\n",
        "# Выполняем критерий Фридмана\n",
        "statistic, p_value = stats.friedmanchisquare(before_medication, after_10_minutes, after_30_minutes)\n",
        "\n",
        "# Выводим результаты\n",
        "alpha = 0.05\n",
        "print(f\"Статистика критерия Фридмана: {statistic}\")\n",
        "print(f\"p-value: {p_value}\")\n",
        "\n",
        "if p_value < alpha:\n",
        "    print(\"Отвергаем нулевую гипотезу: существуют статистически значимые различия между измерениями.\")\n",
        "else:\n",
        "    print(\"Не отвергаем нулевую гипотезу: статистически значимых различий между измерениями нет.\")\n"
      ],
      "metadata": {
        "colab": {
          "base_uri": "https://localhost:8080/"
        },
        "id": "wjEMZ3TTVfmL",
        "outputId": "781ad960-b3d3-4d8f-aaf9-163df4966f3f"
      },
      "execution_count": 11,
      "outputs": [
        {
          "output_type": "stream",
          "name": "stdout",
          "text": [
            "Статистика критерия Фридмана: 9.578947368421062\n",
            "p-value: 0.00831683351100441\n",
            "Отвергаем нулевую гипотезу: существуют статистически значимые различия между измерениями.\n"
          ]
        }
      ]
    },
    {
      "cell_type": "markdown",
      "source": [
        "###Задача 3\n",
        "Сравните 1 и 2 е измерения, предполагая, что 3го измерения через 30 минут не было."
      ],
      "metadata": {
        "id": "-MRpwt7Fappx"
      }
    },
    {
      "cell_type": "code",
      "source": [
        "before_medication = np.array ([150, 160, 165, 145, 155])\n",
        "after_10_minutes = np.array ([140, 155, 150, 130, 135])\n",
        "\n",
        "# Выполняем критерий Уилкоксона\n",
        "statistic, p_value = stats.wilcoxon(before_medication, after_10_minutes, alternative='two-sided')\n",
        "\n",
        "# Выводим результаты\n",
        "alpha = 0.05\n",
        "print(f\"Статистика критерия Уилкоксона: {statistic}\")\n",
        "print(f\"p-value: {p_value}\")\n",
        "\n",
        "if p_value < alpha:\n",
        "    print(\"Отвергаем нулевую гипотезу: существуют статистически значимые различия между измерениями.\")\n",
        "else:\n",
        "    print(\"Не отвергаем нулевую гипотезу: статистически значимых различий между измерениями нет.\")\n"
      ],
      "metadata": {
        "colab": {
          "base_uri": "https://localhost:8080/"
        },
        "id": "xHI1F1mwbAyT",
        "outputId": "a531647a-1849-4590-bd91-11c21ac27574"
      },
      "execution_count": 13,
      "outputs": [
        {
          "output_type": "stream",
          "name": "stdout",
          "text": [
            "Статистика критерия Уилкоксона: 0.0\n",
            "p-value: 0.0625\n",
            "Не отвергаем нулевую гипотезу: статистически значимых различий между измерениями нет.\n"
          ]
        }
      ]
    },
    {
      "cell_type": "markdown",
      "source": [
        "###Задача 4\n",
        "Даны 3 группы  учеников плавания.            \n",
        "В 1 группе время на дистанцию 50 м составляют:\n",
        "56, 60, 62, 55, 71, 67, 59, 58, 64, 67                              \n",
        "Вторая группа : 57, 58, 69, 48, 72, 70, 68, 71, 50, 53         \n",
        "Третья группа: 57, 67, 49, 48, 47, 55, 66, 51, 54\n"
      ],
      "metadata": {
        "id": "a33IraOoemAV"
      }
    },
    {
      "cell_type": "code",
      "source": [
        "group1 = np.array ([56, 60, 62, 55, 71, 67, 59, 58, 64, 67])\n",
        "group2 = np.array ([57, 58, 69, 48, 72, 70, 68, 71, 50, 53])\n",
        "group3 = np.array ([57, 67, 49, 48, 47, 55, 66, 51, 54])\n",
        "\n",
        "# Выполняем Критерий Крускала-Уоллиса\n",
        "statistic, p_value = stats.kruskal(group1, group2, group3)\n",
        "\n",
        "# Выводим результаты\n",
        "alpha = 0.05\n",
        "print(f\"Статистика критерия Крускала-Уоллиса: {statistic}\")\n",
        "print(f\"p-value: {p_value}\")\n",
        "\n",
        "if p_value < alpha:\n",
        "    print(\"Отвергаем нулевую гипотезу: существуют статистически значимые различия между группами.\")\n",
        "else:\n",
        "    print(\"Не отвергаем нулевую гипотезу: статистически значимых различий между группами нет.\")"
      ],
      "metadata": {
        "colab": {
          "base_uri": "https://localhost:8080/"
        },
        "id": "iDGUwgAKfusu",
        "outputId": "38cbe154-c516-4e48-ab92-961142b19eb8"
      },
      "execution_count": 14,
      "outputs": [
        {
          "output_type": "stream",
          "name": "stdout",
          "text": [
            "Статистика критерия Крускала-Уоллиса: 5.465564058257224\n",
            "p-value: 0.0650380998590494\n",
            "Не отвергаем нулевую гипотезу: статистически значимых различий между группами нет.\n"
          ]
        }
      ]
    }
  ]
}