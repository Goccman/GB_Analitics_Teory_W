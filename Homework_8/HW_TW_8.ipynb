{
  "nbformat": 4,
  "nbformat_minor": 0,
  "metadata": {
    "colab": {
      "provenance": []
    },
    "kernelspec": {
      "name": "python3",
      "display_name": "Python 3"
    },
    "language_info": {
      "name": "python"
    }
  },
  "cells": [
    {
      "cell_type": "markdown",
      "source": [
        "**1. Даны значения величины заработной платы заемщиков банка (zp) и значения их поведенческого кредитного скоринга (ks):**           \n",
        " zp = [35, 45, 190, 200, 40, 70, 54, 150, 120, 110],                 \n",
        " ks = [401, 574, 874, 919, 459, 739, 653, 902, 746, 832].        \n",
        " Найдите ковариацию этих двух величин с помощью элементарных действий, а затем с помощью функции cov из numpy Полученные значения должны быть равны. Найдите коэффициент корреляции Пирсона с помощью ковариации и среднеквадратичных отклонений двух признаков, а затем с использованием функций из библиотек numpy и pandas.\n"
      ],
      "metadata": {
        "id": "Q-3m21hjjQSU"
      }
    },
    {
      "cell_type": "code",
      "source": [
        "import numpy as np\n",
        "import pandas as pd\n",
        "import scipy.stats as stats"
      ],
      "metadata": {
        "id": "s47jxruXjllM"
      },
      "execution_count": 1,
      "outputs": []
    },
    {
      "cell_type": "code",
      "execution_count": 2,
      "metadata": {
        "id": "iBO-sninjOWc"
      },
      "outputs": [],
      "source": [
        "zp = [35, 45, 190, 200, 40, 70, 54, 150, 120, 110]\n",
        "ks = [401, 574, 874, 919, 459, 739, 653, 902, 746, 832]"
      ]
    },
    {
      "cell_type": "code",
      "source": [
        "# Находим среднее значение для каждой выборки\n",
        "zp_mean = sum(zp) / len(zp)\n",
        "ks_mean = sum(ks) / len(ks)\n",
        "\n",
        "# Находим ковариацию\n",
        "cov = sum((zp[i] - zp_mean) * (ks[i] - ks_mean) for i in range(len(zp))) / len(zp)\n",
        "\n",
        "print(\"Ковариация:\", cov)"
      ],
      "metadata": {
        "colab": {
          "base_uri": "https://localhost:8080/"
        },
        "id": "lBSBvAa3kbbB",
        "outputId": "e40a962a-5367-4989-8961-1ed17133785b"
      },
      "execution_count": 3,
      "outputs": [
        {
          "output_type": "stream",
          "name": "stdout",
          "text": [
            "Ковариация: 9157.84\n"
          ]
        }
      ]
    },
    {
      "cell_type": "code",
      "source": [
        "# Находим ковариацию с помощью функции cov из библиотеки numpy\n",
        "cov = np.cov(zp, ks, ddof=0)[0][1]\n",
        "\n",
        "print(\"Ковариация:\", cov)"
      ],
      "metadata": {
        "colab": {
          "base_uri": "https://localhost:8080/"
        },
        "id": "uiVMDI4DkiB7",
        "outputId": "21b83ae3-9865-4bcd-f22b-6a14120e3815"
      },
      "execution_count": 4,
      "outputs": [
        {
          "output_type": "stream",
          "name": "stdout",
          "text": [
            "Ковариация: 9157.84\n"
          ]
        }
      ]
    },
    {
      "cell_type": "code",
      "source": [
        "# Находим коэффициент корреляции Пирсона с помощью функций из библиотек numpy и pandas.\n",
        "r = np.corrcoef(zp, ks)\n",
        "print(r)"
      ],
      "metadata": {
        "colab": {
          "base_uri": "https://localhost:8080/"
        },
        "id": "-s2MhDitkmZb",
        "outputId": "7c5f8612-e18c-446d-d7bb-bdd752edbb34"
      },
      "execution_count": 5,
      "outputs": [
        {
          "output_type": "stream",
          "name": "stdout",
          "text": [
            "[[1.         0.88749009]\n",
            " [0.88749009 1.        ]]\n"
          ]
        }
      ]
    },
    {
      "cell_type": "code",
      "source": [
        "df = pd.DataFrame({'zp': zp, 'ks': ks})\n",
        "r = df.corr()\n",
        "print(r)"
      ],
      "metadata": {
        "colab": {
          "base_uri": "https://localhost:8080/"
        },
        "id": "s38xGpyAksdi",
        "outputId": "93013038-6c1b-44a6-e1ca-15672bcea1d5"
      },
      "execution_count": 6,
      "outputs": [
        {
          "output_type": "stream",
          "name": "stdout",
          "text": [
            "         zp       ks\n",
            "zp  1.00000  0.88749\n",
            "ks  0.88749  1.00000\n"
          ]
        }
      ]
    },
    {
      "cell_type": "markdown",
      "source": [
        "Ответ: Ковариация двух величин равна 9157,84      \n",
        "Коэффициент корреляции Пирсона двух величин равен 0,88749009"
      ],
      "metadata": {
        "id": "msGQ7h6Mk0GI"
      }
    },
    {
      "cell_type": "markdown",
      "source": [
        "**2. Измерены значения IQ выборки студентов, обучающихся в местных технических вузах: 131, 125, 115, 122, 131, 115, 107, 99, 125, 111. Известно, что в генеральной совокупности IQ распределен нормально. Найдите доверительный интервал для математического ожидания с надежностью 0.95.**"
      ],
      "metadata": {
        "id": "C0MFwOPLk9gf"
      }
    },
    {
      "cell_type": "code",
      "source": [
        "data = [131, 125, 115, 122, 131, 115, 107, 99, 125, 111]\n",
        "mean = np.mean(data)\n",
        "std = np.std(data, ddof=1)"
      ],
      "metadata": {
        "id": "-2IY4qxYlJDl"
      },
      "execution_count": 7,
      "outputs": []
    },
    {
      "cell_type": "code",
      "source": [
        "# Найдем t-значение для интервала с надежностью 0.95 и 9 степенями свободы (10 минус 1):\n",
        "\n",
        "t = 2.262\n",
        "n = len(data)\n",
        "lower = mean - t * std / np.sqrt(n)\n",
        "upper = mean + t * std / np.sqrt(n)\n",
        "print(lower, upper)"
      ],
      "metadata": {
        "colab": {
          "base_uri": "https://localhost:8080/"
        },
        "id": "o_RdRVCKlXzP",
        "outputId": "72855e91-ec62-4b9f-a9bb-a2485c4c2eac"
      },
      "execution_count": 8,
      "outputs": [
        {
          "output_type": "stream",
          "name": "stdout",
          "text": [
            "110.55660776308164 125.64339223691834\n"
          ]
        }
      ]
    },
    {
      "cell_type": "markdown",
      "source": [
        "Ответ: доверительный интервал располагается в диапазоне (110.56, 125,64)"
      ],
      "metadata": {
        "id": "OogBQ-7Rlf8p"
      }
    },
    {
      "cell_type": "markdown",
      "source": [
        "**3. Известно, что рост футболистов в сборной распределен нормально с дисперсией генеральной совокупности, равной 25 кв.см. Объем выборки равен 27, среднее выборочное составляет 174.2. Найдите доверительный интервал для математического ожидания с надежностью 0.95.**"
      ],
      "metadata": {
        "id": "Tk5eTAU-lpMk"
      }
    },
    {
      "cell_type": "code",
      "source": [
        "alpha = 0.05\n",
        "n = 27\n",
        "mean = 174.2\n",
        "std = np.sqrt(25)\n",
        "\n",
        "t = np.abs(np.round(np.float64(\n",
        "    np.abs(\n",
        "        np.round(\n",
        "            stats.t.ppf(alpha/2, df=n-1), 3\n",
        "        )\n",
        "    )\n",
        "), 3))\n",
        "\n",
        "print(\"t-критерий Стьюдента:\", t)"
      ],
      "metadata": {
        "colab": {
          "base_uri": "https://localhost:8080/"
        },
        "id": "fB8FDFZelyrQ",
        "outputId": "56103120-4ddd-4e6f-a0bc-080221891705"
      },
      "execution_count": 9,
      "outputs": [
        {
          "output_type": "stream",
          "name": "stdout",
          "text": [
            "t-критерий Стьюдента: 2.056\n"
          ]
        }
      ]
    },
    {
      "cell_type": "code",
      "source": [
        "interval = np.round(np.float64([\n",
        "    mean - t * std / np.sqrt(n),\n",
        "    mean + t * std / np.sqrt(n)\n",
        "]), 2)\n",
        "\n",
        "print(\"Доверительный интервал:\", interval)"
      ],
      "metadata": {
        "colab": {
          "base_uri": "https://localhost:8080/"
        },
        "id": "rXoMVqNumOQe",
        "outputId": "0f4dd0f8-f26f-4075-dc56-6d802c90d47b"
      },
      "execution_count": 10,
      "outputs": [
        {
          "output_type": "stream",
          "name": "stdout",
          "text": [
            "Доверительный интервал: [172.22 176.18]\n"
          ]
        }
      ]
    },
    {
      "cell_type": "markdown",
      "source": [
        "Ответ: доверительный интервал располагается в диапазоне (172.22 176.18)"
      ],
      "metadata": {
        "id": "8foiRNIWmWqr"
      }
    },
    {
      "cell_type": "code",
      "source": [],
      "metadata": {
        "id": "fd536U1omdFm"
      },
      "execution_count": null,
      "outputs": []
    }
  ]
}